{
 "metadata": {
  "language_info": {
   "codemirror_mode": {
    "name": "ipython",
    "version": 3
   },
   "file_extension": ".py",
   "mimetype": "text/x-python",
   "name": "python",
   "nbconvert_exporter": "python",
   "pygments_lexer": "ipython3",
   "version": "3.7.3-final"
  },
  "orig_nbformat": 2,
  "kernelspec": {
   "name": "python3",
   "display_name": "Python 3"
  }
 },
 "nbformat": 4,
 "nbformat_minor": 2,
 "cells": [
  {
   "source": [
    "# fazy\n",
    "\n",
    "Tugas kedua Mata Kuliah Pengantar Kecerdasan buatan pada Semester 5\n",
    "\n",
    "Ditulis oleh Jordi Yaputra (1301180353)"
   ],
   "cell_type": "markdown",
   "metadata": {}
  },
  {
   "source": [
    "## Imports"
   ],
   "cell_type": "markdown",
   "metadata": {}
  },
  {
   "cell_type": "code",
   "execution_count": null,
   "metadata": {},
   "outputs": [],
   "source": [
    "import numpy as np\n",
    "import pandas as pd\n",
    "from matplotlib import pyplot as plt"
   ]
  },
  {
   "source": [
    "## Utilitas"
   ],
   "cell_type": "markdown",
   "metadata": {}
  },
  {
   "cell_type": "code",
   "execution_count": null,
   "metadata": {},
   "outputs": [],
   "source": [
    "class util:\n",
    "    @staticmethod\n",
    "    def clamp(x, a, b):\n",
    "        if type(x) is np.ndarray or type(b) is np.ndarray:\n",
    "            return np.clip(x, a, b)\n",
    "        return max(a, min(x, b))\n",
    "\n",
    "read_excel = pd.read_excel"
   ]
  },
  {
   "source": [
    "## Fazy"
   ],
   "cell_type": "markdown",
   "metadata": {}
  },
  {
   "cell_type": "code",
   "execution_count": null,
   "metadata": {},
   "outputs": [],
   "source": [
    "# %% class set fungsi anggota\n",
    "class FungSet:\n",
    "  def __init__ (self, label, fungsi, bilangan:tuple):\n",
    "    prev = bilangan[0]\n",
    "    for bil in bilangan[1:]:\n",
    "      assert prev <= bil, 'Bilangan harus terurut'\n",
    "      prev = bil\n",
    "\n",
    "    self.label = label\n",
    "    self.fungsi = fungsi\n",
    "    self.bilangan = bilangan\n",
    "\n",
    "  def hitung(self, x, up=1):\n",
    "    return self.fungsi(x, *self.bilangan, up=up)"
   ]
  },
  {
   "cell_type": "code",
   "execution_count": null,
   "metadata": {},
   "outputs": [],
   "source": [
    "# %% fungsi keanggotaan\n",
    "class Fang:\n",
    "\n",
    "  @staticmethod\n",
    "  def linier_atas(x, a, b, up=1):\n",
    "    return util.clamp((x - a) / (b - a), 0, up)\n",
    "\n",
    "  @staticmethod\n",
    "  def linier_bawah(x, a, b, up=1):\n",
    "    return util.clamp((b - x) / (b - a), 0, up)\n",
    "\n",
    "  @staticmethod\n",
    "  def segitiga(x, a, b, c, up=1):\n",
    "    if type(x) is np.ndarray:\n",
    "      arr = np.where(x <= b,\n",
    "        Fang.linier_atas(x, a, b, up),\n",
    "        Fang.linier_bawah(x, b, c, up))\n",
    "      return arr\n",
    "    elif x <= b:\n",
    "      return Fang.linier_atas(x, a, b, up)\n",
    "    return Fang.linier_bawah(x, b, c, up)\n",
    "\n",
    "  @staticmethod\n",
    "  def trapesium(x, a, b, c, d, up=1):\n",
    "    if type(x) is np.ndarray:\n",
    "      arr = np.where(x <= c,\n",
    "          Fang.linier_atas(x, a, b, up),\n",
    "          Fang.linier_bawah(x, c, d, up))\n",
    "      return arr\n",
    "    elif x <= c:\n",
    "      return Fang.linier_atas(x, a, b, up)\n",
    "    return Fang.linier_bawah(x, c, d, up)"
   ]
  },
  {
   "cell_type": "code",
   "execution_count": null,
   "metadata": {},
   "outputs": [],
   "source": [
    "# %% class utamanya\n",
    "class Fazy:\n",
    "  def __init__(self, arr_fset:tuple, lookup_inferensi:pd.core.frame.DataFrame):\n",
    "    # definisi notasi:\n",
    "    # m     : banyaknya data (baris) di dataset\n",
    "    # n     : banyaknya rules inferensi\n",
    "    # c     : banyaknya kolom inferensi\n",
    "    # nfs_i : banyaknya fungset di arr_fset di kolom ke-i\n",
    "\n",
    "    for fset_tup in arr_fset:\n",
    "      for fs in fset_tup:\n",
    "        assert type(fs) == FungSet, \\\n",
    "          'arr_fset harus merupakan tuple berisi tuple FungSet'\n",
    "\n",
    "    self.arr_fset = arr_fset\n",
    "\n",
    "    # nama-nama kolom di inferensi\n",
    "    self.cols = [col for col in lookup_inferensi]\n",
    "\n",
    "    # one hot encoding setiap kategori di setiap kolom inferensi\n",
    "    self.one_hot = tuple(\n",
    "        pd.get_dummies(lookup_inferensi[col])[\\\n",
    "          [f.label for f in arr_fset[i]]] \\\n",
    "        for i, col in enumerate(self.cols))\n",
    "\n",
    "  def _fazify(self, nilai:np.ndarray, fset_tup:tuple):\n",
    "    return np.array([fs.hitung(nilai) for fs in fset_tup])\n",
    "\n",
    "  def _inferensi(self, fazys):\n",
    "    masked = tuple(\n",
    "      np.dot(self.one_hot[i], fazys[i]) for i in range(len(fazys))\n",
    "    )\n",
    "    konjungsi = np.minimum(*masked)  # shape = (n, m)\n",
    "    # matriks disjungsi\n",
    "    disjungsi = np.dot(self.one_hot[-1].T, konjungsi) # shape = (nfs_out, m)\n",
    "    return disjungsi\n",
    "\n",
    "  def _defazify(self, inferensi, step, maks, mins):\n",
    "    sumbu_x = np.arange(mins, maks, step=step)\n",
    "    derajat = np.max([\n",
    "      [fs.hitung(x, up=inferensi[i]) for x in sumbu_x] \\\n",
    "      for i, fs in enumerate(self.arr_fset[-1])\n",
    "      ], axis=0)\n",
    "    return np.dot(sumbu_x, derajat) / np.sum(derajat, axis=0)\n",
    "\n",
    "  def klasify(self, dataset: pd.core.frame.DataFrame, step=10, maks=100, mins=0):\n",
    "    fazys = tuple(  # fazys_i.shape = (nfs_i, m)\n",
    "        self._fazify(dataset[self.cols[i]].to_numpy(), fset_tup) \\\n",
    "        for i, fset_tup in enumerate(self.arr_fset[:len(self.arr_fset)-1]))\n",
    "    inferensi = self._inferensi(fazys)\n",
    "    return self._defazify(inferensi, step, maks, mins)"
   ]
  },
  {
   "source": [
    "## Main"
   ],
   "cell_type": "markdown",
   "metadata": {}
  },
  {
   "cell_type": "code",
   "execution_count": null,
   "metadata": {},
   "outputs": [],
   "source": [
    "# %% membaca data\n",
    "data_mhs = read_excel('data/Mahasiswa.xls')\n",
    "data_mhs.head()"
   ]
  },
  {
   "cell_type": "code",
   "execution_count": null,
   "metadata": {},
   "outputs": [],
   "source": [
    "# %% visualisasi data raw\n",
    "data_mhs['Selisih'] = data_mhs['Penghasilan'] - data_mhs['Pengeluaran']\n",
    "plt.xlabel('Penghasilan')\n",
    "plt.ylabel('Pengeluaran')\n",
    "plt.grid(True)\n",
    "sct = plt.scatter(data_mhs['Penghasilan'], data_mhs['Pengeluaran'],\n",
    "                  marker='o',\n",
    "                  c=(data_mhs['Selisih'] < 0))\n",
    "plt.legend(handles=sct.legend_elements()[0],\n",
    "           labels=['Selisih positif', 'Selisih negatif'],\n",
    "           loc='lower right')"
   ]
  },
  {
   "cell_type": "code",
   "execution_count": null,
   "metadata": {},
   "outputs": [],
   "source": [
    "# %% knowledge base\n",
    "set_fungsi_penghasilan = (\n",
    "  FungSet('kecil', Fang.linier_bawah, (4, 8)),\n",
    "  FungSet('sedang', Fang.segitiga, (8, 9, 11)),\n",
    "  FungSet('besar', Fang.linier_atas, (10, 20))\n",
    ")\n",
    "\n",
    "set_fungsi_pengeluaran = (\n",
    "  FungSet('kecil', Fang.linier_bawah, (3, 6)),\n",
    "  FungSet('sedang', Fang.segitiga, (5, 8, 10)),\n",
    "  FungSet('besar', Fang.linier_atas, (9, 11)),\n",
    ")\n",
    "\n",
    "set_fungsi_kelayakan = (\n",
    "  FungSet('rendah', Fang.linier_bawah, (20, 50)),\n",
    "  FungSet('tinggi', Fang.linier_atas, (30, 60))\n",
    ")"
   ]
  },
  {
   "cell_type": "code",
   "execution_count": null,
   "metadata": {},
   "outputs": [],
   "source": [
    "# %% visualisasi fungset\n",
    "n_20 = np.arange(20, step=.1);\n",
    "n_100 = np.arange(100, step=5);\n",
    "h_pengh = np.max([fs.hitung(n_20) for fs in set_fungsi_penghasilan], axis=0)\n",
    "h_penge = np.max([fs.hitung(n_20) for fs in set_fungsi_pengeluaran], axis=0)\n",
    "h_kely = np.max([fs.hitung(n_100) for fs in set_fungsi_kelayakan], axis=0)\n",
    "\n",
    "ylim = (0, 1.2)\n",
    "plt.subplots_adjust(hspace=.4, top=1.5)\n",
    "plt.subplot(3, 1, 1)\n",
    "plt.ylim(ylim)\n",
    "plt.title('Fungset Penghasilan')\n",
    "plt.plot(n_20, h_pengh)\n",
    "plt.subplot(3, 1, 2)\n",
    "plt.ylim(ylim)\n",
    "plt.title('Fungset Pengeluaran')\n",
    "plt.plot(n_20, h_penge)\n",
    "plt.subplot(3, 1, 3)\n",
    "plt.ylim(ylim)\n",
    "plt.title('Fungset Kelayakan')\n",
    "plt.plot(n_100, h_kely)"
   ]
  },
  {
   "cell_type": "code",
   "execution_count": null,
   "metadata": {},
   "outputs": [],
   "source": [
    "#%% tabel inferensi\n",
    "lookup_inferensi = pd.DataFrame({\n",
    "  'Penghasilan': (\n",
    "      'kecil', 'kecil', 'kecil',\n",
    "      'sedang','sedang','sedang',\n",
    "      'besar','besar','besar'),\n",
    "  'Pengeluaran': (\n",
    "      'kecil','sedang','besar',\n",
    "      'kecil','sedang','besar',\n",
    "      'kecil','sedang','besar'),\n",
    "  'Kelayakan': (\n",
    "      'rendah','tinggi','tinggi',\n",
    "      'rendah','rendah','tinggi',\n",
    "      'rendah','rendah','rendah')\n",
    "  })\n",
    "\n",
    "print('Tabel aturan inferensi')\n",
    "lookup_inferensi"
   ]
  },
  {
   "cell_type": "code",
   "execution_count": null,
   "metadata": {},
   "outputs": [],
   "source": [
    "# %% main\n",
    "model = Fazy((\n",
    "    set_fungsi_penghasilan,\n",
    "    set_fungsi_pengeluaran,\n",
    "    set_fungsi_kelayakan\n",
    "  ),\n",
    "  lookup_inferensi=lookup_inferensi)\n",
    "\n",
    "kelayakan = model.klasify(dataset=data_mhs, step=5) # (2, m)"
   ]
  },
  {
   "cell_type": "code",
   "execution_count": null,
   "metadata": {},
   "outputs": [],
   "source": [
    "# %% visualisasi tabel\n",
    "data_mhs['Kelayakan'] = kelayakan\n",
    "df1 = data_mhs.sort_values('Kelayakan', ascending=False)[:20]\n",
    "# df2 = data_mhs.sort_values('Selisih', ascending=True)[:20]\n",
    "print('Tabel terpilih terurut berdasarkan kelayakan')\n",
    "display(df1)\n",
    "# display(df2)"
   ]
  },
  {
   "cell_type": "code",
   "execution_count": null,
   "metadata": {},
   "outputs": [],
   "source": [
    "# %% output ke excel\n",
    "with pd.ExcelWriter('data/Bantuan.xls') as writer:\n",
    "  df1.to_excel(writer, 'data_bantuan', columns=['Id'], index=False, header=False)"
   ]
  },
  {
   "cell_type": "code",
   "execution_count": null,
   "metadata": {},
   "outputs": [],
   "source": [
    "# %% uji korelasi\n",
    "corr = data_mhs.loc[:, ['Kelayakan', 'Selisih']].corr().to_numpy()[0,1]\n",
    "print('Korelasi selisih-kelayakan', corr, sep='\\n')"
   ]
  }
 ]
}